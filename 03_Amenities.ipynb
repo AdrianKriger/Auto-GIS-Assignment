{
 "cells": [
  {
   "cell_type": "markdown",
   "metadata": {},
   "source": [
    "# 03_Amenities\n",
    "\n",
    "### Here we wrangle some data\n",
    "\n",
    "\n",
    "\n",
    "\n",
    "\n"
   ]
  },
  {
   "cell_type": "markdown",
   "metadata": {},
   "source": [
    "<div class=\"alert alert-block alert-info\"><b>We retrieve amenities from Open Street Map    \n",
    "</b></div>"
   ]
  },
  {
   "cell_type": "markdown",
   "metadata": {},
   "source": [
    "> Our amenities are `supermarket`, `convenience`, `kiosk`, `greengrocer` and `marketplace`, `kindergarten`, `restaurant`, `cafe`, `cinema`, `theatre`, `atm`, `bank`, `pharmacy`, `veterinary`, `internet_cafe`."
   ]
  },
  {
   "cell_type": "markdown",
   "metadata": {},
   "source": [
    "<div class=\"alert alert-block alert-success\">\n",
    "\n",
    "<b>From the City of Cape Town Open Data API  ~ (https://odp-cctegis.opendata.arcgis.com/) we harvest: \n",
    "</b></div>"
   ]
  },
  {
   "cell_type": "markdown",
   "metadata": {},
   "source": [
    "> `park`, `library`, `health_care`, `community_center`"
   ]
  },
  {
   "cell_type": "markdown",
   "metadata": {},
   "source": [
    "<div class=\"alert alert-block alert-warning\"><b>From Department Basic Education ~ (https://www.education.gov.za/Home.aspx):</b>\n",
    "</div>"
   ]
  },
  {
   "cell_type": "markdown",
   "metadata": {},
   "source": [
    "> `primary_school`, `secondary_school`"
   ]
  },
  {
   "cell_type": "markdown",
   "metadata": {},
   "source": [
    "<div class=\"alert alert-block alert-danger\"><b>Warning:</b> \n",
    "</div>"
   ]
  },
  {
   "cell_type": "markdown",
   "metadata": {},
   "source": [
    "> a) We focus on a specific area: `(18.349529,-34.050469,18.649593,-33.848834) #(minx, miny, maxx, maxy)`   \n",
    "> b) Informal trading serves to enormous portion of South Africa. Typically `shop=convenience` or `shop=kiosk` or `shop=greengrocer` should include these. I don't know how to access data on informal traders in South Africa."
   ]
  },
  {
   "cell_type": "code",
   "execution_count": 1,
   "metadata": {},
   "outputs": [],
   "source": [
    "#load the magic\n",
    "\n",
    "%matplotlib inline\n",
    "import os\n",
    "from pathlib import Path\n",
    "\n",
    "import pandana as pdna\n",
    "from pandana.loaders import osm\n",
    "\n",
    "import time\n",
    "import numpy as np\n",
    "import pandas as pd\n",
    "from shapely.geometry import Point\n",
    "from shapely.geometry import Polygon\n",
    "from shapely.geometry import box\n",
    "import geopandas as gpd\n",
    "\n",
    "import matplotlib.pyplot as plt\n",
    "import matplotlib"
   ]
  },
  {
   "cell_type": "code",
   "execution_count": 2,
   "metadata": {},
   "outputs": [],
   "source": [
    "#set path\n",
    "path = Path('./')"
   ]
  },
  {
   "cell_type": "code",
   "execution_count": 3,
   "metadata": {},
   "outputs": [],
   "source": [
    "# what amenities?\n",
    "amenities = ['restaurant', 'cafe', 'cinema', 'theatre', 'university', 'atm', 'bank', \n",
    "             'pharmacy', 'veterinary', 'kindergarten', 'marketplace']\n",
    "\n",
    "#NOTE: shopping is not an amenity. If you include these with amenities the query will return nothing.\n",
    "shops = ['supermarket', 'convenience', 'kiosk', 'greengrocer']\n",
    "\n",
    "# (minx, miny, maxx, maxy) bounding box ~ focus area\n",
    "bbox = [18.349529,-34.050469,18.649593,-33.848834] # for hbay~bville~miln~m'degama"
   ]
  },
  {
   "cell_type": "markdown",
   "metadata": {},
   "source": [
    "### The amenities"
   ]
  },
  {
   "cell_type": "code",
   "execution_count": 4,
   "metadata": {},
   "outputs": [
    {
     "name": "stdout",
     "output_type": "stream",
     "text": [
      "809 Amenities downloaded from OSM in 2.61 seconds\n"
     ]
    },
    {
     "data": {
      "text/html": [
       "<div>\n",
       "<style scoped>\n",
       "    .dataframe tbody tr th:only-of-type {\n",
       "        vertical-align: middle;\n",
       "    }\n",
       "\n",
       "    .dataframe tbody tr th {\n",
       "        vertical-align: top;\n",
       "    }\n",
       "\n",
       "    .dataframe thead th {\n",
       "        text-align: right;\n",
       "    }\n",
       "</style>\n",
       "<table border=\"1\" class=\"dataframe\">\n",
       "  <thead>\n",
       "    <tr style=\"text-align: right;\">\n",
       "      <th></th>\n",
       "      <th>amenity</th>\n",
       "      <th>name</th>\n",
       "      <th>lat</th>\n",
       "      <th>lon</th>\n",
       "    </tr>\n",
       "    <tr>\n",
       "      <th>id</th>\n",
       "      <th></th>\n",
       "      <th></th>\n",
       "      <th></th>\n",
       "      <th></th>\n",
       "    </tr>\n",
       "  </thead>\n",
       "  <tbody>\n",
       "    <tr>\n",
       "      <th>26191572</th>\n",
       "      <td>restaurant</td>\n",
       "      <td>Rhodes Memorial Tearoom</td>\n",
       "      <td>-33.952124</td>\n",
       "      <td>18.458541</td>\n",
       "    </tr>\n",
       "    <tr>\n",
       "      <th>26310715</th>\n",
       "      <td>restaurant</td>\n",
       "      <td>Cincinnati Spur</td>\n",
       "      <td>-33.933043</td>\n",
       "      <td>18.510368</td>\n",
       "    </tr>\n",
       "    <tr>\n",
       "      <th>26313138</th>\n",
       "      <td>restaurant</td>\n",
       "      <td>Magica Roma</td>\n",
       "      <td>-33.940229</td>\n",
       "      <td>18.497875</td>\n",
       "    </tr>\n",
       "    <tr>\n",
       "      <th>30518038</th>\n",
       "      <td>atm</td>\n",
       "      <td>NaN</td>\n",
       "      <td>-33.939903</td>\n",
       "      <td>18.498271</td>\n",
       "    </tr>\n",
       "    <tr>\n",
       "      <th>30518146</th>\n",
       "      <td>atm</td>\n",
       "      <td>NaN</td>\n",
       "      <td>-33.940939</td>\n",
       "      <td>18.500053</td>\n",
       "    </tr>\n",
       "  </tbody>\n",
       "</table>\n",
       "</div>"
      ],
      "text/plain": [
       "             amenity                     name        lat        lon\n",
       "id                                                                 \n",
       "26191572  restaurant  Rhodes Memorial Tearoom -33.952124  18.458541\n",
       "26310715  restaurant          Cincinnati Spur -33.933043  18.510368\n",
       "26313138  restaurant              Magica Roma -33.940229  18.497875\n",
       "30518038         atm                      NaN -33.939903  18.498271\n",
       "30518146         atm                      NaN -33.940939  18.500053"
      ]
     },
     "execution_count": 4,
     "metadata": {},
     "output_type": "execute_result"
    }
   ],
   "source": [
    "start_time = time.time()\n",
    "# query the OSM API for the specified amenities within the bounding box \n",
    "osm_tags = '\"amenity\"~\"{}\"'.format('|'.join(amenities))\n",
    "pois = osm.node_query(bbox[1], bbox[0], bbox[3], bbox[2], tags=osm_tags)\n",
    "    \n",
    "#### save to CSV if you choose\n",
    "#pois = pois[pois['amenity'].isin(amenities)]\n",
    "#pois.to_csv(amenities_filename, index=False, encoding='utf-8')\n",
    "method = 'downloaded from OSM'\n",
    "    \n",
    "print('{:,} Amenities {} in {:,.2f} seconds'.format(len(pois), method, time.time()-start_time))\n",
    "pois[['amenity', 'name', 'lat', 'lon']].head()"
   ]
  },
  {
   "cell_type": "markdown",
   "metadata": {},
   "source": [
    "### The shops"
   ]
  },
  {
   "cell_type": "code",
   "execution_count": 5,
   "metadata": {
    "scrolled": false
   },
   "outputs": [
    {
     "name": "stdout",
     "output_type": "stream",
     "text": [
      "229 Shops downloaded from OSM in 1.22 seconds\n"
     ]
    },
    {
     "data": {
      "text/html": [
       "<div>\n",
       "<style scoped>\n",
       "    .dataframe tbody tr th:only-of-type {\n",
       "        vertical-align: middle;\n",
       "    }\n",
       "\n",
       "    .dataframe tbody tr th {\n",
       "        vertical-align: top;\n",
       "    }\n",
       "\n",
       "    .dataframe thead th {\n",
       "        text-align: right;\n",
       "    }\n",
       "</style>\n",
       "<table border=\"1\" class=\"dataframe\">\n",
       "  <thead>\n",
       "    <tr style=\"text-align: right;\">\n",
       "      <th></th>\n",
       "      <th>shop</th>\n",
       "      <th>name</th>\n",
       "      <th>lat</th>\n",
       "      <th>lon</th>\n",
       "    </tr>\n",
       "    <tr>\n",
       "      <th>id</th>\n",
       "      <th></th>\n",
       "      <th></th>\n",
       "      <th></th>\n",
       "      <th></th>\n",
       "    </tr>\n",
       "  </thead>\n",
       "  <tbody>\n",
       "    <tr>\n",
       "      <th>26310714</th>\n",
       "      <td>supermarket</td>\n",
       "      <td>Woolworths</td>\n",
       "      <td>-33.933101</td>\n",
       "      <td>18.510459</td>\n",
       "    </tr>\n",
       "    <tr>\n",
       "      <th>26313136</th>\n",
       "      <td>supermarket</td>\n",
       "      <td>Pick 'n Pay</td>\n",
       "      <td>-33.934214</td>\n",
       "      <td>18.511008</td>\n",
       "    </tr>\n",
       "    <tr>\n",
       "      <th>26313137</th>\n",
       "      <td>convenience</td>\n",
       "      <td>Spar</td>\n",
       "      <td>-33.939831</td>\n",
       "      <td>18.498314</td>\n",
       "    </tr>\n",
       "    <tr>\n",
       "      <th>73521740</th>\n",
       "      <td>supermarket</td>\n",
       "      <td>Shoprite</td>\n",
       "      <td>-33.950047</td>\n",
       "      <td>18.471612</td>\n",
       "    </tr>\n",
       "    <tr>\n",
       "      <th>73525282</th>\n",
       "      <td>convenience</td>\n",
       "      <td>Caledonian Spar</td>\n",
       "      <td>-33.948299</td>\n",
       "      <td>18.479413</td>\n",
       "    </tr>\n",
       "  </tbody>\n",
       "</table>\n",
       "</div>"
      ],
      "text/plain": [
       "                 shop             name        lat        lon\n",
       "id                                                          \n",
       "26310714  supermarket       Woolworths -33.933101  18.510459\n",
       "26313136  supermarket      Pick 'n Pay -33.934214  18.511008\n",
       "26313137  convenience             Spar -33.939831  18.498314\n",
       "73521740  supermarket         Shoprite -33.950047  18.471612\n",
       "73525282  convenience  Caledonian Spar -33.948299  18.479413"
      ]
     },
     "execution_count": 5,
     "metadata": {},
     "output_type": "execute_result"
    }
   ],
   "source": [
    "start_time = time.time()\n",
    "# query the OSM API for the specified shops within the bounding box \n",
    "osm_tags = '\"shop\"~\"{}\"'.format('|'.join(shops))\n",
    "shop = osm.node_query(bbox[1], bbox[0], bbox[3], bbox[2], tags=osm_tags)\n",
    "    \n",
    "#### save to CSV if you choose\n",
    "#shop = shop[shop['shop'].isin(shops)]\n",
    "#shop.to_csv(shops_filename, index=False, encoding='utf-8')\n",
    "method = 'downloaded from OSM'\n",
    "    \n",
    "print('{:,} Shops {} in {:,.2f} seconds'.format(len(shop), method, time.time()-start_time))\n",
    "shop[['shop', 'name', 'lat', 'lon']].head()"
   ]
  },
  {
   "cell_type": "markdown",
   "metadata": {},
   "source": [
    "<div class=\"alert alert-block alert-info\"><b>\n",
    "     \n",
    "</b>**We need to `.rename` some columns and add (`concatenate`) the `shops` to the `amenities`**.</div>"
   ]
  },
  {
   "cell_type": "code",
   "execution_count": 6,
   "metadata": {},
   "outputs": [],
   "source": [
    "shop.rename(columns={'amenity': 'amenity2'}, inplace=True)\n",
    "shop.rename(columns={'shop': 'amenity'}, inplace=True)"
   ]
  },
  {
   "cell_type": "code",
   "execution_count": 7,
   "metadata": {},
   "outputs": [],
   "source": [
    "df_list = [pois[['amenity','name','lat','lon']], shop[['amenity','name','lat','lon']]]\n",
    "data = pd.concat(df_list, ignore_index=True)"
   ]
  },
  {
   "cell_type": "code",
   "execution_count": 8,
   "metadata": {},
   "outputs": [
    {
     "data": {
      "text/plain": [
       "1038"
      ]
     },
     "execution_count": 8,
     "metadata": {},
     "output_type": "execute_result"
    }
   ],
   "source": [
    "len(data)"
   ]
  },
  {
   "cell_type": "code",
   "execution_count": 9,
   "metadata": {},
   "outputs": [
    {
     "data": {
      "text/plain": [
       "restaurant       408\n",
       "supermarket      132\n",
       "atm              130\n",
       "cafe             126\n",
       "convenience       88\n",
       "bank              65\n",
       "pharmacy          46\n",
       "kindergarten      11\n",
       "veterinary         8\n",
       "theatre            7\n",
       "greengrocer        5\n",
       "kiosk              4\n",
       "cinema             4\n",
       "marketplace        3\n",
       "internet_cafe      1\n",
       "Name: amenity, dtype: int64"
      ]
     },
     "execution_count": 9,
     "metadata": {},
     "output_type": "execute_result"
    }
   ],
   "source": [
    "data['amenity'].value_counts()"
   ]
  },
  {
   "cell_type": "markdown",
   "metadata": {},
   "source": [
    "<div class=\"alert alert-block alert-success\">\n",
    "\n",
    "<b>    \n",
    "</b>**We go directly to the source for `park`, `library`, `health_care` and `community_center`.**\n",
    "</div>"
   ]
  },
  {
   "cell_type": "code",
   "execution_count": 10,
   "metadata": {},
   "outputs": [],
   "source": [
    "# call the park API ~ https://odp.capetown.gov.za/datasets/parks/geoservice\n",
    "prks_object = 'https://citymaps.capetown.gov.za/agsext1/rest/services/Theme_Based/Open_Data_Service/MapServer/29/query?where=1%3D1&outFields=PARK_NAME&outSR=4326&f=json'\n",
    "#read as gpd ~ filter by bbox\n",
    "prks_shp = gpd.read_file(prks_object, bbox=bbox)"
   ]
  },
  {
   "cell_type": "code",
   "execution_count": 11,
   "metadata": {},
   "outputs": [
    {
     "name": "stderr",
     "output_type": "stream",
     "text": [
      "C:\\Users\\EstelleSK\\Anaconda3\\lib\\site-packages\\ipykernel_launcher.py:2: UserWarning: Geometry is in a geographic CRS. Results from 'centroid' are likely incorrect. Use 'GeoSeries.to_crs()' to re-project geometries to a projected CRS before this operation.\n",
      "\n",
      "  \n",
      "C:\\Users\\EstelleSK\\Anaconda3\\lib\\site-packages\\ipykernel_launcher.py:3: UserWarning: Geometry is in a geographic CRS. Results from 'centroid' are likely incorrect. Use 'GeoSeries.to_crs()' to re-project geometries to a projected CRS before this operation.\n",
      "\n",
      "  This is separate from the ipykernel package so we can avoid doing imports until\n"
     ]
    }
   ],
   "source": [
    "# these are polygons. We need a Point\n",
    "prks_shp['lon'] = prks_shp.centroid.x\n",
    "prks_shp['lat'] = prks_shp.centroid.y"
   ]
  },
  {
   "cell_type": "markdown",
   "metadata": {},
   "source": [
    "<div class=\"alert alert-block alert-info\"><b>\n",
    "     \n",
    "</b>**To keep our work consistent we `.rename` some columns and add (`concatenate`) the `shops` to the `amenities`**.</div>"
   ]
  },
  {
   "cell_type": "code",
   "execution_count": 12,
   "metadata": {},
   "outputs": [
    {
     "data": {
      "text/html": [
       "<div>\n",
       "<style scoped>\n",
       "    .dataframe tbody tr th:only-of-type {\n",
       "        vertical-align: middle;\n",
       "    }\n",
       "\n",
       "    .dataframe tbody tr th {\n",
       "        vertical-align: top;\n",
       "    }\n",
       "\n",
       "    .dataframe thead th {\n",
       "        text-align: right;\n",
       "    }\n",
       "</style>\n",
       "<table border=\"1\" class=\"dataframe\">\n",
       "  <thead>\n",
       "    <tr style=\"text-align: right;\">\n",
       "      <th></th>\n",
       "      <th>amenity</th>\n",
       "      <th>name</th>\n",
       "      <th>lat</th>\n",
       "      <th>lon</th>\n",
       "    </tr>\n",
       "  </thead>\n",
       "  <tbody>\n",
       "    <tr>\n",
       "      <th>0</th>\n",
       "      <td>park</td>\n",
       "      <td>Disa Place Pos</td>\n",
       "      <td>-34.043269</td>\n",
       "      <td>18.456462</td>\n",
       "    </tr>\n",
       "    <tr>\n",
       "      <th>1</th>\n",
       "      <td>park</td>\n",
       "      <td>Highfield Road Community Garden</td>\n",
       "      <td>-34.020969</td>\n",
       "      <td>18.589949</td>\n",
       "    </tr>\n",
       "    <tr>\n",
       "      <th>2</th>\n",
       "      <td>park</td>\n",
       "      <td>Mitchell Pos</td>\n",
       "      <td>-34.041542</td>\n",
       "      <td>18.600167</td>\n",
       "    </tr>\n",
       "    <tr>\n",
       "      <th>3</th>\n",
       "      <td>park</td>\n",
       "      <td>Igiyogiyo Road Passageway</td>\n",
       "      <td>-33.992392</td>\n",
       "      <td>18.597748</td>\n",
       "    </tr>\n",
       "    <tr>\n",
       "      <th>4</th>\n",
       "      <td>park</td>\n",
       "      <td>Janet Avenue Passageway</td>\n",
       "      <td>-34.022800</td>\n",
       "      <td>18.456378</td>\n",
       "    </tr>\n",
       "  </tbody>\n",
       "</table>\n",
       "</div>"
      ],
      "text/plain": [
       "  amenity                             name        lat        lon\n",
       "0    park                   Disa Place Pos -34.043269  18.456462\n",
       "1    park  Highfield Road Community Garden -34.020969  18.589949\n",
       "2    park                     Mitchell Pos -34.041542  18.600167\n",
       "3    park        Igiyogiyo Road Passageway -33.992392  18.597748\n",
       "4    park          Janet Avenue Passageway -34.022800  18.456378"
      ]
     },
     "execution_count": 12,
     "metadata": {},
     "output_type": "execute_result"
    }
   ],
   "source": [
    "prks_shp.rename(columns={'PARK_NAME': 'name'}, inplace=True)\n",
    "prks_shp['amenity'] = 'park'\n",
    "\n",
    "prks_shp[['amenity', 'name', 'lat', 'lon']].head()"
   ]
  },
  {
   "cell_type": "code",
   "execution_count": 13,
   "metadata": {},
   "outputs": [],
   "source": [
    "df_list = [data[['amenity','name','lat','lon']], prks_shp[['amenity','name','lat','lon']]]\n",
    "data = pd.concat(df_list, ignore_index=True)"
   ]
  },
  {
   "cell_type": "code",
   "execution_count": 14,
   "metadata": {},
   "outputs": [
    {
     "data": {
      "text/plain": [
       "1635"
      ]
     },
     "execution_count": 14,
     "metadata": {},
     "output_type": "execute_result"
    }
   ],
   "source": [
    "len(data)"
   ]
  },
  {
   "cell_type": "markdown",
   "metadata": {},
   "source": [
    "<div class=\"alert alert-block alert-info\"><b>\n",
    "     \n",
    "</b>**Now the `libraries`**\n",
    "</div>"
   ]
  },
  {
   "cell_type": "code",
   "execution_count": 15,
   "metadata": {},
   "outputs": [],
   "source": [
    "# call the library API ~ https://odp.capetown.gov.za/datasets/libraries/geoservice\n",
    "lib_object = 'https://citymaps.capetown.gov.za/agsext1/rest/services/Theme_Based/Open_Data_Service/MapServer/22/query?where=1%3D1&outFields=NAME&outSR=4326&f=json'\n",
    "#read as gpd ~ filter by bbox\n",
    "lib = gpd.read_file(lib_object, bbox=bbox)"
   ]
  },
  {
   "cell_type": "code",
   "execution_count": 16,
   "metadata": {},
   "outputs": [
    {
     "data": {
      "text/html": [
       "<div>\n",
       "<style scoped>\n",
       "    .dataframe tbody tr th:only-of-type {\n",
       "        vertical-align: middle;\n",
       "    }\n",
       "\n",
       "    .dataframe tbody tr th {\n",
       "        vertical-align: top;\n",
       "    }\n",
       "\n",
       "    .dataframe thead th {\n",
       "        text-align: right;\n",
       "    }\n",
       "</style>\n",
       "<table border=\"1\" class=\"dataframe\">\n",
       "  <thead>\n",
       "    <tr style=\"text-align: right;\">\n",
       "      <th></th>\n",
       "      <th>amenity</th>\n",
       "      <th>name</th>\n",
       "      <th>lat</th>\n",
       "      <th>lon</th>\n",
       "    </tr>\n",
       "  </thead>\n",
       "  <tbody>\n",
       "    <tr>\n",
       "      <th>0</th>\n",
       "      <td>library</td>\n",
       "      <td>IMIZAMO YETHU (SATELLITE)</td>\n",
       "      <td>-34.029826</td>\n",
       "      <td>18.360171</td>\n",
       "    </tr>\n",
       "    <tr>\n",
       "      <th>1</th>\n",
       "      <td>library</td>\n",
       "      <td>HOUT BAY</td>\n",
       "      <td>-34.043999</td>\n",
       "      <td>18.358361</td>\n",
       "    </tr>\n",
       "    <tr>\n",
       "      <th>2</th>\n",
       "      <td>library</td>\n",
       "      <td>CAMPS BAY</td>\n",
       "      <td>-33.953785</td>\n",
       "      <td>18.377659</td>\n",
       "    </tr>\n",
       "    <tr>\n",
       "      <th>3</th>\n",
       "      <td>library</td>\n",
       "      <td>CROSSROADS</td>\n",
       "      <td>-33.998297</td>\n",
       "      <td>18.596949</td>\n",
       "    </tr>\n",
       "    <tr>\n",
       "      <th>4</th>\n",
       "      <td>library</td>\n",
       "      <td>BROWN'S FARM</td>\n",
       "      <td>-34.005611</td>\n",
       "      <td>18.585389</td>\n",
       "    </tr>\n",
       "  </tbody>\n",
       "</table>\n",
       "</div>"
      ],
      "text/plain": [
       "   amenity                       name        lat        lon\n",
       "0  library  IMIZAMO YETHU (SATELLITE) -34.029826  18.360171\n",
       "1  library                   HOUT BAY -34.043999  18.358361\n",
       "2  library                  CAMPS BAY -33.953785  18.377659\n",
       "3  library                 CROSSROADS -33.998297  18.596949\n",
       "4  library               BROWN'S FARM -34.005611  18.585389"
      ]
     },
     "execution_count": 16,
     "metadata": {},
     "output_type": "execute_result"
    }
   ],
   "source": [
    "#seperate columns for x and y\n",
    "lib['lon'] = lib.geometry.x\n",
    "lib['lat'] = lib.geometry.y\n",
    "\n",
    "lib.rename(columns={'NAME': 'name'}, inplace=True)\n",
    "lib['amenity'] = 'library'\n",
    "\n",
    "lib[['amenity', 'name', 'lat', 'lon']].head()"
   ]
  },
  {
   "cell_type": "code",
   "execution_count": 17,
   "metadata": {},
   "outputs": [],
   "source": [
    "df_list = [data[['amenity','name','lat','lon']], lib[['amenity','name','lat','lon']]]\n",
    "data = pd.concat(df_list, ignore_index=True)"
   ]
  },
  {
   "cell_type": "code",
   "execution_count": 18,
   "metadata": {},
   "outputs": [
    {
     "data": {
      "text/plain": [
       "1716"
      ]
     },
     "execution_count": 18,
     "metadata": {},
     "output_type": "execute_result"
    }
   ],
   "source": [
    "len(data)"
   ]
  },
  {
   "cell_type": "markdown",
   "metadata": {},
   "source": [
    "<div class=\"alert alert-block alert-info\"><b>\n",
    "     \n",
    "</b>**Now `community_centers`**\n",
    "</div>"
   ]
  },
  {
   "cell_type": "code",
   "execution_count": 19,
   "metadata": {},
   "outputs": [],
   "source": [
    "# call the community_center API ~ https://odp.capetown.gov.za/datasets/community-centres/geoservice\n",
    "com_cen_object = 'https://citymaps.capetown.gov.za/agsext1/rest/services/Theme_Based/Open_Data_Service/MapServer/21/query?where=1%3D1&outFields=NAME&outSR=4326&f=json'\n",
    "#read as gpd ~ filter by bbox\n",
    "com_cen = gpd.read_file(com_cen_object, bbox=bbox)"
   ]
  },
  {
   "cell_type": "code",
   "execution_count": 20,
   "metadata": {},
   "outputs": [],
   "source": [
    "#seperate columns for x and y\n",
    "com_cen['lon'] = com_cen.geometry.x\n",
    "com_cen['lat'] = com_cen.geometry.y\n",
    "\n",
    "com_cen.rename(columns={'NAME': 'name'}, inplace=True)\n",
    "com_cen['amenity'] = 'community_center'\n",
    "\n",
    "df_list = [data[['amenity','name','lat','lon']], com_cen[['amenity','name','lat','lon']]]\n",
    "data = pd.concat(df_list, ignore_index=True)"
   ]
  },
  {
   "cell_type": "code",
   "execution_count": 21,
   "metadata": {},
   "outputs": [
    {
     "data": {
      "text/plain": [
       "1824"
      ]
     },
     "execution_count": 21,
     "metadata": {},
     "output_type": "execute_result"
    }
   ],
   "source": [
    "len(data)"
   ]
  },
  {
   "cell_type": "markdown",
   "metadata": {},
   "source": [
    "<div class=\"alert alert-block alert-info\"><b>\n",
    "     \n",
    "</b>**Then `health_care_centers`**\n",
    "</div>"
   ]
  },
  {
   "cell_type": "code",
   "execution_count": 22,
   "metadata": {},
   "outputs": [],
   "source": [
    "# call the health_care center API ~ https://odp.capetown.gov.za/datasets/health-care-facilities\n",
    "health_object = 'https://citymaps.capetown.gov.za/agsext1/rest/services/Theme_Based/Open_Data_Service/MapServer/44/query?where=1%3D1&outFields=NAME,TYPE&outSR=4326&f=json'\n",
    "#read as gpd ~ filter by bbox\n",
    "health = gpd.read_file(health_object, bbox=bbox)"
   ]
  },
  {
   "cell_type": "code",
   "execution_count": 23,
   "metadata": {},
   "outputs": [],
   "source": [
    "#seperate columns for x and y\n",
    "health['lon'] = health.geometry.x\n",
    "health['lat'] = health.geometry.y\n",
    "\n",
    "health.rename(columns={'NAME': 'name'}, inplace=True)\n",
    "health['amenity'] = 'health_care'\n",
    "\n",
    "df_list = [data[['amenity','name','lat','lon']], health[['amenity','name','lat','lon']]]\n",
    "data = pd.concat(df_list, ignore_index=True)"
   ]
  },
  {
   "cell_type": "code",
   "execution_count": 24,
   "metadata": {},
   "outputs": [
    {
     "data": {
      "text/plain": [
       "1916"
      ]
     },
     "execution_count": 24,
     "metadata": {},
     "output_type": "execute_result"
    }
   ],
   "source": [
    "len(data)"
   ]
  },
  {
   "cell_type": "markdown",
   "metadata": {},
   "source": [
    "<div class=\"alert alert-block alert-warning\"><b>\n",
    "    \n",
    "</b>**The [Department of Basic Education](https://www.education.gov.za/Programmes/EMIS/EMISDownloads.aspx) provides a `MasterList`.**\n",
    "</div>"
   ]
  },
  {
   "cell_type": "code",
   "execution_count": 25,
   "metadata": {},
   "outputs": [],
   "source": [
    "sch_object = path/'data/secondary_2018_Masterlist_CoCT.csv'\n",
    "sch = pd.read_csv(sch_object, sep=',', header=0)"
   ]
  },
  {
   "cell_type": "code",
   "execution_count": 26,
   "metadata": {},
   "outputs": [],
   "source": [
    "# take only the columns you want\n",
    "sch_sub = sch[['Official_Institution_Name', 'GNSS_Longitude', 'GNSS_Latitude']].copy()\n",
    "sch_sub['GNSS_Latitude'] = pd.to_numeric(sch_sub['GNSS_Latitude']) \n",
    "sch_sub['GNSS_Longitude'] = pd.to_numeric(sch_sub['GNSS_Longitude'])"
   ]
  },
  {
   "cell_type": "markdown",
   "metadata": {},
   "source": [
    "<div class=\"alert alert-block alert-info\"><b>\n",
    "     \n",
    "</b>**Trim to the area of interest (`bbox`), `.rename` and `concatenate`.**\n",
    "</div>"
   ]
  },
  {
   "cell_type": "code",
   "execution_count": 27,
   "metadata": {},
   "outputs": [
    {
     "data": {
      "text/html": [
       "<div>\n",
       "<style scoped>\n",
       "    .dataframe tbody tr th:only-of-type {\n",
       "        vertical-align: middle;\n",
       "    }\n",
       "\n",
       "    .dataframe tbody tr th {\n",
       "        vertical-align: top;\n",
       "    }\n",
       "\n",
       "    .dataframe thead th {\n",
       "        text-align: right;\n",
       "    }\n",
       "</style>\n",
       "<table border=\"1\" class=\"dataframe\">\n",
       "  <thead>\n",
       "    <tr style=\"text-align: right;\">\n",
       "      <th></th>\n",
       "      <th>amenity</th>\n",
       "      <th>name</th>\n",
       "      <th>lat</th>\n",
       "      <th>lon</th>\n",
       "    </tr>\n",
       "  </thead>\n",
       "  <tbody>\n",
       "    <tr>\n",
       "      <th>0</th>\n",
       "      <td>school</td>\n",
       "      <td>ZOLA SENIOR SECONDARY SCHOOL</td>\n",
       "      <td>-34.015092</td>\n",
       "      <td>18.634394</td>\n",
       "    </tr>\n",
       "    <tr>\n",
       "      <th>0</th>\n",
       "      <td>school</td>\n",
       "      <td>MANDALAY PRIMARY SCHOOL</td>\n",
       "      <td>-34.014732</td>\n",
       "      <td>18.629511</td>\n",
       "    </tr>\n",
       "    <tr>\n",
       "      <th>0</th>\n",
       "      <td>school</td>\n",
       "      <td>VUZAMANZI PUBLIC PRIMARY SCHOOL</td>\n",
       "      <td>-34.013736</td>\n",
       "      <td>18.648988</td>\n",
       "    </tr>\n",
       "    <tr>\n",
       "      <th>0</th>\n",
       "      <td>school</td>\n",
       "      <td>NOLUNGILE PRIMARY SCHOOL</td>\n",
       "      <td>-34.013678</td>\n",
       "      <td>18.642853</td>\n",
       "    </tr>\n",
       "    <tr>\n",
       "      <th>0</th>\n",
       "      <td>school</td>\n",
       "      <td>INTLANGANISO SECONDARY SCHOOL</td>\n",
       "      <td>-34.013115</td>\n",
       "      <td>18.641669</td>\n",
       "    </tr>\n",
       "  </tbody>\n",
       "</table>\n",
       "</div>"
      ],
      "text/plain": [
       "  amenity                             name        lat        lon\n",
       "0  school     ZOLA SENIOR SECONDARY SCHOOL -34.015092  18.634394\n",
       "0  school          MANDALAY PRIMARY SCHOOL -34.014732  18.629511\n",
       "0  school  VUZAMANZI PUBLIC PRIMARY SCHOOL -34.013736  18.648988\n",
       "0  school         NOLUNGILE PRIMARY SCHOOL -34.013678  18.642853\n",
       "0  school    INTLANGANISO SECONDARY SCHOOL -34.013115  18.641669"
      ]
     },
     "execution_count": 27,
     "metadata": {},
     "output_type": "execute_result"
    }
   ],
   "source": [
    "bbox_poly = gpd.GeoDataFrame({\"id\":1,\"geometry\":[box(*bbox)]})\n",
    "bbox_poly = bbox_poly.set_crs(\"EPSG:4326\")\n",
    "\n",
    "geometry = [Point(xy) for xy in zip(sch_sub.GNSS_Longitude, sch_sub.GNSS_Latitude)]\n",
    "points = gpd.GeoDataFrame(sch_sub, crs=\"EPSG:4326\", geometry=geometry)\n",
    "\n",
    "#take only the schools within the bbox\n",
    "merge = gpd.sjoin(bbox_poly, points, how=\"left\", op='contains')\n",
    "\n",
    "merge.rename(columns={'Official_Institution_Name': 'name', \n",
    "                      'GNSS_Longitude': 'lon', \n",
    "                      'GNSS_Latitude': 'lat' }, inplace=True)\n",
    "merge['amenity'] = 'school'\n",
    "\n",
    "merge[['amenity', 'name', 'lat', 'lon']].head()"
   ]
  },
  {
   "cell_type": "code",
   "execution_count": 28,
   "metadata": {},
   "outputs": [],
   "source": [
    "df_list = [data[['amenity','name','lat','lon']], merge[['amenity','name','lat','lon']]]\n",
    "data = pd.concat(df_list, ignore_index=True)"
   ]
  },
  {
   "cell_type": "code",
   "execution_count": 29,
   "metadata": {},
   "outputs": [
    {
     "data": {
      "text/plain": [
       "2481"
      ]
     },
     "execution_count": 29,
     "metadata": {},
     "output_type": "execute_result"
    }
   ],
   "source": [
    "len(data)"
   ]
  },
  {
   "cell_type": "code",
   "execution_count": 31,
   "metadata": {},
   "outputs": [
    {
     "data": {
      "text/plain": [
       "park                597\n",
       "school              565\n",
       "restaurant          408\n",
       "supermarket         132\n",
       "atm                 130\n",
       "cafe                126\n",
       "community_center    108\n",
       "health_care          92\n",
       "convenience          88\n",
       "library              81\n",
       "bank                 65\n",
       "pharmacy             46\n",
       "kindergarten         11\n",
       "veterinary            8\n",
       "theatre               7\n",
       "greengrocer           5\n",
       "kiosk                 4\n",
       "cinema                4\n",
       "marketplace           3\n",
       "internet_cafe         1\n",
       "Name: amenity, dtype: int64"
      ]
     },
     "execution_count": 31,
     "metadata": {},
     "output_type": "execute_result"
    }
   ],
   "source": [
    "data['amenity'].value_counts()"
   ]
  },
  {
   "cell_type": "code",
   "execution_count": 32,
   "metadata": {},
   "outputs": [],
   "source": [
    "#save it\n",
    "data.to_csv(path/'data/amenities_test.csv', index=False, encoding='utf-8')"
   ]
  }
 ],
 "metadata": {
  "kernelspec": {
   "display_name": "Python 3",
   "language": "python",
   "name": "python3"
  },
  "language_info": {
   "codemirror_mode": {
    "name": "ipython",
    "version": 3
   },
   "file_extension": ".py",
   "mimetype": "text/x-python",
   "name": "python",
   "nbconvert_exporter": "python",
   "pygments_lexer": "ipython3",
   "version": "3.6.10"
  }
 },
 "nbformat": 4,
 "nbformat_minor": 4
}
