{
 "cells": [
  {
   "cell_type": "markdown",
   "metadata": {},
   "source": [
    "# 01_Define Area and download OSM Street network\n",
    "\n",
    "<div class=\"alert alert-block alert-info\"><b>\n",
    "     \n",
    "</b>**Here we define an area of interest, retrieve and save an Open Street Map network as a`hdf5` file**\n",
    "</div>"
   ]
  },
  {
   "cell_type": "code",
   "execution_count": 1,
   "metadata": {},
   "outputs": [],
   "source": [
    "#load the magic\n",
    "\n",
    "%matplotlib inline\n",
    "\n",
    "import os\n",
    "import sys\n",
    "from pathlib import Path\n",
    "\n",
    "import pandana as pdna\n",
    "from pandana.loaders import osm\n",
    "import osmnet\n",
    "\n",
    "import pandas as pd\n",
    "import geopandas as gpd\n",
    "\n",
    "import matplotlib.pyplot as plt\n",
    "import matplotlib"
   ]
  },
  {
   "cell_type": "code",
   "execution_count": 2,
   "metadata": {},
   "outputs": [],
   "source": [
    "path = Path('./')"
   ]
  },
  {
   "cell_type": "code",
   "execution_count": 3,
   "metadata": {},
   "outputs": [],
   "source": [
    "path_object = (path/'data'/'metropolitan_municipality_cpt.shp')\n",
    "cpt_shp = gpd.read_file(path_object)"
   ]
  },
  {
   "cell_type": "code",
   "execution_count": 4,
   "metadata": {},
   "outputs": [
    {
     "data": {
      "text/html": [
       "<div>\n",
       "<style scoped>\n",
       "    .dataframe tbody tr th:only-of-type {\n",
       "        vertical-align: middle;\n",
       "    }\n",
       "\n",
       "    .dataframe tbody tr th {\n",
       "        vertical-align: top;\n",
       "    }\n",
       "\n",
       "    .dataframe thead th {\n",
       "        text-align: right;\n",
       "    }\n",
       "</style>\n",
       "<table border=\"1\" class=\"dataframe\">\n",
       "  <thead>\n",
       "    <tr style=\"text-align: right;\">\n",
       "      <th></th>\n",
       "      <th>OBJECTID</th>\n",
       "      <th>CATEGORY</th>\n",
       "      <th>CAT2</th>\n",
       "      <th>CAT_B</th>\n",
       "      <th>MUNICNAME</th>\n",
       "      <th>DISTRICT</th>\n",
       "      <th>PROVINCE</th>\n",
       "      <th>PROVNAME</th>\n",
       "      <th>AREA</th>\n",
       "      <th>SHAPE_LENG</th>\n",
       "      <th>SHAPE_AREA</th>\n",
       "      <th>EA_NUMBER</th>\n",
       "      <th>geometry</th>\n",
       "    </tr>\n",
       "  </thead>\n",
       "  <tbody>\n",
       "    <tr>\n",
       "      <th>0</th>\n",
       "      <td>2</td>\n",
       "      <td>A</td>\n",
       "      <td>Metropolitan Municipality</td>\n",
       "      <td>CPT</td>\n",
       "      <td>City of Cape Town</td>\n",
       "      <td>CPT</td>\n",
       "      <td>WC</td>\n",
       "      <td>Western Cape</td>\n",
       "      <td>2439.78</td>\n",
       "      <td>5.198175</td>\n",
       "      <td>0.238297</td>\n",
       "      <td>Metropolitan Municipality CPT</td>\n",
       "      <td>MULTIPOLYGON (((18.37075 -33.82018, 18.37030 -...</td>\n",
       "    </tr>\n",
       "  </tbody>\n",
       "</table>\n",
       "</div>"
      ],
      "text/plain": [
       "   OBJECTID CATEGORY                       CAT2 CAT_B          MUNICNAME  \\\n",
       "0         2        A  Metropolitan Municipality   CPT  City of Cape Town   \n",
       "\n",
       "  DISTRICT PROVINCE      PROVNAME     AREA  SHAPE_LENG  SHAPE_AREA  \\\n",
       "0      CPT       WC  Western Cape  2439.78    5.198175    0.238297   \n",
       "\n",
       "                       EA_NUMBER  \\\n",
       "0  Metropolitan Municipality CPT   \n",
       "\n",
       "                                            geometry  \n",
       "0  MULTIPOLYGON (((18.37075 -33.82018, 18.37030 -...  "
      ]
     },
     "execution_count": 4,
     "metadata": {},
     "output_type": "execute_result"
    }
   ],
   "source": [
    "cpt_shp.head(2)"
   ]
  },
  {
   "cell_type": "code",
   "execution_count": 5,
   "metadata": {},
   "outputs": [
    {
     "data": {
      "text/plain": [
       "<matplotlib.axes._subplots.AxesSubplot at 0x178b77a0470>"
      ]
     },
     "execution_count": 5,
     "metadata": {},
     "output_type": "execute_result"
    },
    {
     "data": {
      "image/png": "[encoded data removed]",
      "text/plain": [
       "<Figure size 432x288 with 1 Axes>"
      ]
     },
     "metadata": {
      "needs_background": "light"
     },
     "output_type": "display_data"
    }
   ],
   "source": [
    "cpt_shp.plot()"
   ]
  },
  {
   "cell_type": "code",
   "execution_count": 6,
   "metadata": {},
   "outputs": [
    {
     "data": {
      "text/html": [
       "<div>\n",
       "<style scoped>\n",
       "    .dataframe tbody tr th:only-of-type {\n",
       "        vertical-align: middle;\n",
       "    }\n",
       "\n",
       "    .dataframe tbody tr th {\n",
       "        vertical-align: top;\n",
       "    }\n",
       "\n",
       "    .dataframe thead th {\n",
       "        text-align: right;\n",
       "    }\n",
       "</style>\n",
       "<table border=\"1\" class=\"dataframe\">\n",
       "  <thead>\n",
       "    <tr style=\"text-align: right;\">\n",
       "      <th></th>\n",
       "      <th>minx</th>\n",
       "      <th>miny</th>\n",
       "      <th>maxx</th>\n",
       "      <th>maxy</th>\n",
       "    </tr>\n",
       "  </thead>\n",
       "  <tbody>\n",
       "    <tr>\n",
       "      <th>0</th>\n",
       "      <td>18.30722</td>\n",
       "      <td>-34.35834</td>\n",
       "      <td>19.00467</td>\n",
       "      <td>-33.471276</td>\n",
       "    </tr>\n",
       "  </tbody>\n",
       "</table>\n",
       "</div>"
      ],
      "text/plain": [
       "       minx      miny      maxx       maxy\n",
       "0  18.30722 -34.35834  19.00467 -33.471276"
      ]
     },
     "execution_count": 6,
     "metadata": {},
     "output_type": "execute_result"
    }
   ],
   "source": [
    "cpt_shp.bounds"
   ]
  },
  {
   "cell_type": "code",
   "execution_count": 7,
   "metadata": {},
   "outputs": [
    {
     "data": {
      "text/plain": [
       "(18.307220001000076,\n",
       " -34.35833999699997,\n",
       " 19.004669996000075,\n",
       " -33.47127600399995)"
      ]
     },
     "execution_count": 7,
     "metadata": {},
     "output_type": "execute_result"
    }
   ],
   "source": [
    "bbox = (cpt_shp.bounds['minx'][0], cpt_shp.bounds['miny'][0], \n",
    "        cpt_shp.bounds['maxx'][0], cpt_shp.bounds['maxy'][0])\n",
    "bbox"
   ]
  },
  {
   "cell_type": "markdown",
   "metadata": {},
   "source": [
    "<div class=\"alert alert-block alert-info\"><b>I experienced some challenges with `pdna.loaders.osm.network_from_bbox` and reverted to `osmnet`. \n",
    "</b>\n",
    "</div>"
   ]
  },
  {
   "cell_type": "markdown",
   "metadata": {},
   "source": [
    "> `network_type=walk` **extracts only OSM walkable street network components.** \n",
    "> `two_way=True` **denotes each edge in the network is traversable in both directions with the same weight.**"
   ]
  },
  {
   "cell_type": "code",
   "execution_count": 8,
   "metadata": {},
   "outputs": [
    {
     "name": "stderr",
     "output_type": "stream",
     "text": [
      "C:\\Users\\EstelleSK\\Anaconda3\\lib\\site-packages\\osmnet\\load.py:445: FutureWarning: Assigning CRS to a GeoDataFrame without a geometry column is now deprecated and will not be supported in the future.\n",
      "  gdf.crs = crs\n",
      "C:\\Users\\EstelleSK\\Anaconda3\\lib\\site-packages\\pyproj\\crs\\crs.py:53: FutureWarning: '+init=<authority>:<code>' syntax is deprecated. '<authority>:<code>' is the preferred initialization method. When making the change, be mindful of axis order changes: https://pyproj4.github.io/pyproj/stable/gotchas.html#axis-order-changes-in-proj-6\n",
      "  return _prepare_from_string(\" \".join(pjargs))\n"
     ]
    },
    {
     "name": "stdout",
     "output_type": "stream",
     "text": [
      "Requesting network data within bounding box from Overpass API in 4 request(s)\n",
      "Posting to http://www.overpass-api.de/api/interpreter with timeout=180, \"{'data': '[out:json][timeout:180];(way[\"highway\"][\"highway\"!~\"motor|proposed|construction|abandoned|platform|raceway\"][\"foot\"!~\"no\"][\"pedestrians\"!~\"no\"](-34.35883647,18.30722000,-33.90822510,18.65417381);>;);out;'}\"\n",
      "Downloaded 57,773.3KB from www.overpass-api.de in 7.15 seconds\n",
      "Posting to http://www.overpass-api.de/api/interpreter with timeout=180, \"{'data': '[out:json][timeout:180];(way[\"highway\"][\"highway\"!~\"motor|proposed|construction|abandoned|platform|raceway\"][\"foot\"!~\"no\"][\"pedestrians\"!~\"no\"](-33.91532432,18.30722000,-33.47127600,18.66620196);>;);out;'}\"\n",
      "Downloaded 29,273.5KB from www.overpass-api.de in 4.70 seconds\n",
      "Posting to http://www.overpass-api.de/api/interpreter with timeout=180, \"{'data': '[out:json][timeout:180];(way[\"highway\"][\"highway\"!~\"motor|proposed|construction|abandoned|platform|raceway\"][\"foot\"!~\"no\"][\"pedestrians\"!~\"no\"](-33.92150533,18.65417381,-33.47127600,19.00472950);>;);out;'}\"\n",
      "Downloaded 26,918.8KB from www.overpass-api.de in 4.44 seconds\n",
      "Posting to http://www.overpass-api.de/api/interpreter with timeout=180, \"{'data': '[out:json][timeout:180];(way[\"highway\"][\"highway\"!~\"motor|proposed|construction|abandoned|platform|raceway\"][\"foot\"!~\"no\"][\"pedestrians\"!~\"no\"](-34.35883647,18.64187990,-33.91532432,19.00472950);>;);out;'}\"\n",
      "Downloaded 36,150.8KB from www.overpass-api.de in 5.82 seconds\n",
      "Downloaded OSM network data within bounding box from Overpass API in 4 request(s) and 26.92 seconds\n",
      "61,604 duplicate records removed. Took 16.75 seconds\n",
      "Returning OSM data with 1,089,189 nodes and 167,434 ways...\n",
      "Edge node pairs completed. Took 438.75 seconds\n",
      "Returning processed graph with 213,499 nodes and 297,293 edges...\n",
      "Completed OSM data download and Pandana node and edge table creation in 492.77 seconds\n",
      "Wall time: 8min 32s\n"
     ]
    }
   ],
   "source": [
    "%%time\n",
    "\n",
    "#download\n",
    "network = osmnet.network_from_bbox(bbox=bbox,\n",
    "                                   network_type='walk',\n",
    "                                   two_way=True)\n",
    "\n",
    "#build_network ~ you need to build the network to find disconnected nodes.\n",
    "network = pdna.Network(network[0][\"x\"],\n",
    "                       network[0][\"y\"], \n",
    "                       network[1][\"from\"], \n",
    "                       network[1][\"to\"], \n",
    "                       network[1][[\"distance\"]])\n",
    "\n",
    "#collect disconnected subgraphs\n",
    "lcn = network.low_connectivity_nodes(1000, 10, imp_name='distance')"
   ]
  },
  {
   "cell_type": "code",
   "execution_count": 9,
   "metadata": {},
   "outputs": [
    {
     "name": "stdout",
     "output_type": "stream",
     "text": [
      "OSM data save completed: data/osm2Way_network_CPT_walk.h5\n"
     ]
    }
   ],
   "source": [
    "#define path\n",
    "osm_network = 'data/osm2Way_network_CPT_walk.h5'\n",
    "\n",
    "#save excluding disconnected subgraphs\n",
    "network.save_hdf5(osm_network, rm_nodes=lcn)\n",
    "print('OSM data save completed:', osm_network)"
   ]
  },
  {
   "cell_type": "markdown",
   "metadata": {},
   "source": [
    "<div class=\"alert alert-block alert-warning\"><b></b>  \n",
    "    \n",
    "**What did we download and save?**</div>"
   ]
  },
  {
   "cell_type": "code",
   "execution_count": 10,
   "metadata": {},
   "outputs": [
    {
     "name": "stdout",
     "output_type": "stream",
     "text": [
      "Wall time: 733 ms\n"
     ]
    }
   ],
   "source": [
    "%%time\n",
    "\n",
    "#load\n",
    "osm_walk_nodes = pd.HDFStore(osm_network).nodes\n",
    "osm_walk_edges = pd.HDFStore(osm_network).edges"
   ]
  },
  {
   "cell_type": "code",
   "execution_count": 11,
   "metadata": {},
   "outputs": [
    {
     "data": {
      "text/html": [
       "<div>\n",
       "<style scoped>\n",
       "    .dataframe tbody tr th:only-of-type {\n",
       "        vertical-align: middle;\n",
       "    }\n",
       "\n",
       "    .dataframe tbody tr th {\n",
       "        vertical-align: top;\n",
       "    }\n",
       "\n",
       "    .dataframe thead th {\n",
       "        text-align: right;\n",
       "    }\n",
       "</style>\n",
       "<table border=\"1\" class=\"dataframe\">\n",
       "  <thead>\n",
       "    <tr style=\"text-align: right;\">\n",
       "      <th></th>\n",
       "      <th>x</th>\n",
       "      <th>y</th>\n",
       "    </tr>\n",
       "    <tr>\n",
       "      <th>id</th>\n",
       "      <th></th>\n",
       "      <th></th>\n",
       "    </tr>\n",
       "  </thead>\n",
       "  <tbody>\n",
       "    <tr>\n",
       "      <th>18401303</th>\n",
       "      <td>18.858736</td>\n",
       "      <td>-33.932268</td>\n",
       "    </tr>\n",
       "    <tr>\n",
       "      <th>18402016</th>\n",
       "      <td>18.878714</td>\n",
       "      <td>-33.929936</td>\n",
       "    </tr>\n",
       "    <tr>\n",
       "      <th>18402019</th>\n",
       "      <td>18.879307</td>\n",
       "      <td>-33.932860</td>\n",
       "    </tr>\n",
       "    <tr>\n",
       "      <th>18402020</th>\n",
       "      <td>18.879799</td>\n",
       "      <td>-33.933917</td>\n",
       "    </tr>\n",
       "    <tr>\n",
       "      <th>18402021</th>\n",
       "      <td>18.879944</td>\n",
       "      <td>-33.934862</td>\n",
       "    </tr>\n",
       "  </tbody>\n",
       "</table>\n",
       "</div>"
      ],
      "text/plain": [
       "                  x          y\n",
       "id                            \n",
       "18401303  18.858736 -33.932268\n",
       "18402016  18.878714 -33.929936\n",
       "18402019  18.879307 -33.932860\n",
       "18402020  18.879799 -33.933917\n",
       "18402021  18.879944 -33.934862"
      ]
     },
     "execution_count": 11,
     "metadata": {},
     "output_type": "execute_result"
    }
   ],
   "source": [
    "osm_walk_nodes.head(5)"
   ]
  },
  {
   "cell_type": "code",
   "execution_count": 12,
   "metadata": {},
   "outputs": [
    {
     "data": {
      "text/html": [
       "<div>\n",
       "<style scoped>\n",
       "    .dataframe tbody tr th:only-of-type {\n",
       "        vertical-align: middle;\n",
       "    }\n",
       "\n",
       "    .dataframe tbody tr th {\n",
       "        vertical-align: top;\n",
       "    }\n",
       "\n",
       "    .dataframe thead th {\n",
       "        text-align: right;\n",
       "    }\n",
       "</style>\n",
       "<table border=\"1\" class=\"dataframe\">\n",
       "  <thead>\n",
       "    <tr style=\"text-align: right;\">\n",
       "      <th></th>\n",
       "      <th></th>\n",
       "      <th>from</th>\n",
       "      <th>to</th>\n",
       "      <th>distance</th>\n",
       "    </tr>\n",
       "  </thead>\n",
       "  <tbody>\n",
       "    <tr>\n",
       "      <th rowspan=\"2\" valign=\"top\">18401303</th>\n",
       "      <th>6996959884</th>\n",
       "      <td>18401303</td>\n",
       "      <td>6996959884</td>\n",
       "      <td>13.726407</td>\n",
       "    </tr>\n",
       "    <tr>\n",
       "      <th>6996986085</th>\n",
       "      <td>18401303</td>\n",
       "      <td>6996986085</td>\n",
       "      <td>13.499005</td>\n",
       "    </tr>\n",
       "    <tr>\n",
       "      <th rowspan=\"2\" valign=\"top\">18402016</th>\n",
       "      <th>33023776</th>\n",
       "      <td>18402016</td>\n",
       "      <td>33023776</td>\n",
       "      <td>127.487786</td>\n",
       "    </tr>\n",
       "    <tr>\n",
       "      <th>4259257421</th>\n",
       "      <td>18402016</td>\n",
       "      <td>4259257421</td>\n",
       "      <td>113.191387</td>\n",
       "    </tr>\n",
       "    <tr>\n",
       "      <th>18402019</th>\n",
       "      <th>745065331</th>\n",
       "      <td>18402019</td>\n",
       "      <td>745065331</td>\n",
       "      <td>120.937255</td>\n",
       "    </tr>\n",
       "  </tbody>\n",
       "</table>\n",
       "</div>"
      ],
      "text/plain": [
       "                         from          to    distance\n",
       "18401303 6996959884  18401303  6996959884   13.726407\n",
       "         6996986085  18401303  6996986085   13.499005\n",
       "18402016 33023776    18402016    33023776  127.487786\n",
       "         4259257421  18402016  4259257421  113.191387\n",
       "18402019 745065331   18402019   745065331  120.937255"
      ]
     },
     "execution_count": 12,
     "metadata": {},
     "output_type": "execute_result"
    }
   ],
   "source": [
    "osm_walk_edges.head(5)"
   ]
  },
  {
   "cell_type": "code",
   "execution_count": 28,
   "metadata": {},
   "outputs": [
    {
     "data": {
      "text/plain": [
       "<matplotlib.collections.PathCollection at 0x178c3eefd68>"
      ]
     },
     "execution_count": 28,
     "metadata": {},
     "output_type": "execute_result"
    },
    {
     "data": {
      "image/png": "[encoded data removed]",
      "text/plain": [
       "<Figure size 432x288 with 1 Axes>"
      ]
     },
     "metadata": {
      "needs_background": "light"
     },
     "output_type": "display_data"
    }
   ],
   "source": [
    "cpt_shp.plot(alpha=0.5, color = 'r', zorder=2)\n",
    "plt.scatter(x = osm_walk_nodes.x, y = osm_walk_nodes.y, s = 0.05, zorder=1)"
   ]
  },
  {
   "cell_type": "code",
   "execution_count": null,
   "metadata": {},
   "outputs": [],
   "source": []
  },
  {
   "cell_type": "code",
   "execution_count": null,
   "metadata": {},
   "outputs": [],
   "source": [
    "# ancillary code to extract the bbox from suburb\n",
    "path_object = 'https://citymaps.capetown.gov.za/agsext1/rest/services/Theme_Based/Open_Data_Service/MapServer/75/query?where=1%3D1&outFields=OBJECTID,OFC_SBRB_NAME,SHAPE.STArea()&outSR=4326&f=json'\n",
    "sub_shp = gpd.read_file(path_object)"
   ]
  },
  {
   "cell_type": "code",
   "execution_count": null,
   "metadata": {},
   "outputs": [],
   "source": [
    "                                    #  example\n",
    "one = sub_shp[sub_shp.OFC_SBRB_N == \"SPRINGFIELD\"]\n",
    "one.plot()\n",
    "bbox = (one.bounds['minx'][1], one.bounds['miny'][1],\n",
    "        one.bounds['maxx'][1], one.bounds['maxy'][1])\n",
    "\n",
    "print(bbox)"
   ]
  }
 ],
 "metadata": {
  "kernelspec": {
   "display_name": "Python 3",
   "language": "python",
   "name": "python3"
  },
  "language_info": {
   "codemirror_mode": {
    "name": "ipython",
    "version": 3
   },
   "file_extension": ".py",
   "mimetype": "text/x-python",
   "name": "python",
   "nbconvert_exporter": "python",
   "pygments_lexer": "ipython3",
   "version": "3.6.10"
  }
 },
 "nbformat": 4,
 "nbformat_minor": 4
}
